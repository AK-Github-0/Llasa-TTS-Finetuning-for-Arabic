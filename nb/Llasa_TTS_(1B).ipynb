{
  "cells": [
    {
      "cell_type": "markdown",
      "metadata": {
        "id": "view-in-github",
        "colab_type": "text"
      },
      "source": [
        "<a href=\"https://colab.research.google.com/github/AK-Github-0/Llasa-TTS-Finetuning-for-Arabic/blob/main/nb/Llasa_TTS_(1B).ipynb\" target=\"_parent\"><img src=\"https://colab.research.google.com/assets/colab-badge.svg\" alt=\"Open In Colab\"/></a>"
      ]
    },
    {
      "cell_type": "markdown",
      "metadata": {
        "id": "8ARrtr9g35VZ"
      },
      "source": [
        "To run this, press \"*Runtime*\" and press \"*Run all*\" on a **free** Tesla T4 Google Colab instance!\n",
        "<div class=\"align-center\">\n",
        "<a href=\"https://unsloth.ai/\"><img src=\"https://github.com/unslothai/unsloth/raw/main/images/unsloth%20new%20logo.png\" width=\"115\"></a>\n",
        "<a href=\"https://discord.gg/unsloth\"><img src=\"https://github.com/unslothai/unsloth/raw/main/images/Discord button.png\" width=\"145\"></a>\n",
        "<a href=\"https://docs.unsloth.ai/\"><img src=\"https://github.com/unslothai/unsloth/blob/main/images/documentation%20green%20button.png?raw=true\" width=\"125\"></a></a> Join Discord if you need help + ⭐ <i>Star us on <a href=\"https://github.com/unslothai/unsloth\">Github</a> </i> ⭐\n",
        "</div>\n",
        "\n",
        "To install Unsloth on your own computer, follow the installation instructions on our Github page [here](https://docs.unsloth.ai/get-started/installing-+-updating).\n",
        "\n",
        "You will learn how to do [data prep](#Data), how to [train](#Train), how to [run the model](#Inference), & [how to save it](#Save)\n"
      ]
    },
    {
      "cell_type": "markdown",
      "metadata": {
        "id": "jGot6ycX35Vc"
      },
      "source": [
        "### News"
      ]
    },
    {
      "cell_type": "markdown",
      "metadata": {
        "id": "W3i_y5ph35Ve"
      },
      "source": [
        "Read our **[TTS Guide](https://docs.unsloth.ai/basics/text-to-speech-tts-fine-tuning)** for instructions and all our notebooks.\n",
        "\n",
        "Read our **[Qwen3 Guide](https://docs.unsloth.ai/basics/qwen3-how-to-run-and-fine-tune)** and check out our new **[Dynamic 2.0](https://docs.unsloth.ai/basics/unsloth-dynamic-2.0-ggufs)** quants which outperforms other quantization methods!\n",
        "\n",
        "Visit our docs for all our [model uploads](https://docs.unsloth.ai/get-started/all-our-models) and [notebooks](https://docs.unsloth.ai/get-started/unsloth-notebooks).\n"
      ]
    },
    {
      "cell_type": "markdown",
      "metadata": {
        "id": "zA8WYbef35Vg"
      },
      "source": [
        "### Installation"
      ]
    },
    {
      "cell_type": "code",
      "execution_count": 16,
      "metadata": {
        "id": "tm4RTeDr35Vi"
      },
      "outputs": [],
      "source": [
        "%%capture\n",
        "\n",
        "# Note Llasa needs unsloth==2025.4.1 and transformers==4.48 to be stable!\n",
        "import os\n",
        "if \"COLAB_\" not in \"\".join(os.environ.keys()):\n",
        "    !pip install unsloth==2025.4.1\n",
        "else:\n",
        "    # Do this only in Colab notebooks! Otherwise use pip install unsloth\n",
        "    !pip install --no-deps bitsandbytes accelerate xformers==0.0.29.post3 peft trl==0.15.2 triton cut_cross_entropy unsloth_zoo\n",
        "    !pip install sentencepiece protobuf \"datasets>=3.4.1\" huggingface_hub hf_transfer\n",
        "    !pip install --no-deps unsloth==2025.4.1\n",
        "\n",
        "!pip install torchtune torchao vector_quantize_pytorch einx tiktoken xcodec2==0.1.5 --no-deps\n",
        "!pip install transformers==4.48 omegaconf\n",
        "%env UNSLOTH_DISABLE_FAST_GENERATION = 1"
      ]
    },
    {
      "cell_type": "markdown",
      "metadata": {
        "id": "AkWYsztAs9Ky"
      },
      "source": [
        "### Unsloth\n",
        "\n",
        "`FastModel` supports loading nearly any model now! This includes Vision and Text models!\n",
        "\n",
        "Thank you to [Etherl](https://huggingface.co/Etherll) for creating this notebook!"
      ]
    },
    {
      "cell_type": "code",
      "execution_count": 17,
      "metadata": {
        "colab": {
          "base_uri": "https://localhost:8080/"
        },
        "id": "QmUBVEnvCDJv",
        "outputId": "9003c06d-2512-4c9a-845c-b21e2e260a62"
      },
      "outputs": [
        {
          "output_type": "stream",
          "name": "stdout",
          "text": [
            "==((====))==  Unsloth 2025.5.6: Fast Llama patching. Transformers: 4.51.3.\n",
            "   \\\\   /|    Tesla T4. Num GPUs = 1. Max memory: 14.741 GB. Platform: Linux.\n",
            "O^O/ \\_/ \\    Torch: 2.6.0+cu124. CUDA: 7.5. CUDA Toolkit: 12.4. Triton: 3.2.0\n",
            "\\        /    Bfloat16 = FALSE. FA [Xformers = 0.0.29.post3. FA2 = False]\n",
            " \"-____-\"     Free license: http://github.com/unslothai/unsloth\n",
            "Unsloth: Fast downloading is enabled - ignore downloading bars which are red colored!\n",
            "unsloth/llasa-1b does not have a padding token! Will use pad_token = <|finetune_right_pad_id|>.\n"
          ]
        }
      ],
      "source": [
        "from unsloth import FastLanguageModel\n",
        "import torch\n",
        "max_seq_length = 2048 # Choose any for long context!\n",
        "fourbit_models = [\n",
        "    # 4bit dynamic quants for superior accuracy and low memory use\n",
        "    \"unsloth/gemma-3-4b-it-unsloth-bnb-4bit\",\n",
        "    \"unsloth/gemma-3-12b-it-unsloth-bnb-4bit\",\n",
        "    \"unsloth/gemma-3-27b-it-unsloth-bnb-4bit\",\n",
        "    # Qwen3 new models\n",
        "    \"unsloth/Qwen3-4B-unsloth-bnb-4bit\",\n",
        "    \"unsloth/Qwen3-8B-unsloth-bnb-4bit\",\n",
        "    # Other very popular models!\n",
        "    \"unsloth/Llama-3.1-8B\",\n",
        "    \"unsloth/Llama-3.2-3B\",\n",
        "    \"unsloth/Llama-3.3-70B\",\n",
        "    \"unsloth/mistral-7b-instruct-v0.3\",\n",
        "    \"unsloth/Phi-4\",\n",
        "] # More models at https://huggingface.co/unsloth\n",
        "\n",
        "model, tokenizer = FastLanguageModel.from_pretrained(\n",
        "    model_name = \"unsloth/Llasa-1B\",\n",
        "    max_seq_length = max_seq_length,\n",
        "    dtype = None, # Select None for auto detection\n",
        "    load_in_4bit = False, # Choose True for 4bit which reduces memory\n",
        "    # token = \"hf_...\", # use one if using gated models like meta-llama/Llama-2-7b-hf\n",
        ")"
      ]
    },
    {
      "cell_type": "markdown",
      "metadata": {
        "id": "SXd9bTZd1aaL"
      },
      "source": [
        "We now add LoRA adapters so we only need to update 1 to 10% of all parameters!"
      ]
    },
    {
      "cell_type": "code",
      "execution_count": 18,
      "metadata": {
        "id": "6bZsfBuZDeCL"
      },
      "outputs": [],
      "source": [
        "model = FastLanguageModel.get_peft_model(\n",
        "    model,\n",
        "    r = 128, # Choose any number > 0 ! Suggested 8, 16, 32, 64, 128\n",
        "    target_modules = [\"q_proj\", \"v_proj\"],\n",
        "    lora_alpha = 128,\n",
        "    lora_dropout = 0, # Supports any, but = 0 is optimized\n",
        "    bias = \"none\",    # Supports any, but = \"none\" is optimized\n",
        "    # [NEW] \"unsloth\" uses 30% less VRAM, fits 2x larger batch sizes!\n",
        "    use_gradient_checkpointing = \"unsloth\", # True or \"unsloth\" for very long context\n",
        "    random_state = 3407,\n",
        "    use_rslora = False,  # We support rank stabilized LoRA\n",
        "    loftq_config = None, # And LoftQ\n",
        ")"
      ]
    },
    {
      "cell_type": "markdown",
      "metadata": {
        "id": "vITh0KVJ10qX"
      },
      "source": [
        "<a name=\"Data\"></a>\n",
        "### Data Prep  \n",
        "\n",
        "We will use the `MrDragonFox/Elise`, which is designed for training TTS models. Ensure that your dataset follows the required format:\n",
        "**text, audio**. You can modify this section to accommodate your own dataset, but maintaining the correct structure is essential for optimal training."
      ]
    },
    {
      "cell_type": "code",
      "execution_count": 19,
      "metadata": {
        "id": "LjY75GoYUCB8"
      },
      "outputs": [],
      "source": [
        "from datasets import load_dataset\n",
        "dataset = load_dataset(\"MohamedRashad/SCC22\", split = \"test\")\n",
        "OUTPUT_DIR = 'processed_data_memmap'"
      ]
    },
    {
      "cell_type": "code",
      "execution_count": 20,
      "metadata": {
        "colab": {
          "base_uri": "https://localhost:8080/"
        },
        "id": "zK94B-Pfioto",
        "outputId": "94caf091-cf60-4498-dec9-99995f51c232"
      },
      "outputs": [
        {
          "output_type": "stream",
          "name": "stderr",
          "text": [
            "You are using a model of type xcodec2 to instantiate a model of type xcodec. This is not supported for all configurations of models and can yield errors.\n",
            "Some weights of the model checkpoint at HKUST-Audio/xcodec2 were not used when initializing XCodec2Model: ['CodecEnc.conv_blocks.1.block.0.block.0.act.beta', 'CodecEnc.conv_blocks.1.block.0.block.2.act.beta', 'CodecEnc.conv_blocks.1.block.1.block.0.act.beta', 'CodecEnc.conv_blocks.1.block.1.block.2.act.beta', 'CodecEnc.conv_blocks.1.block.2.block.0.act.beta', 'CodecEnc.conv_blocks.1.block.2.block.2.act.beta', 'CodecEnc.conv_blocks.1.block.3.act.beta', 'CodecEnc.conv_blocks.2.block.0.block.0.act.beta', 'CodecEnc.conv_blocks.2.block.0.block.2.act.beta', 'CodecEnc.conv_blocks.2.block.1.block.0.act.beta', 'CodecEnc.conv_blocks.2.block.1.block.2.act.beta', 'CodecEnc.conv_blocks.2.block.2.block.0.act.beta', 'CodecEnc.conv_blocks.2.block.2.block.2.act.beta', 'CodecEnc.conv_blocks.2.block.3.act.beta', 'CodecEnc.conv_blocks.3.block.0.block.0.act.beta', 'CodecEnc.conv_blocks.3.block.0.block.2.act.beta', 'CodecEnc.conv_blocks.3.block.1.block.0.act.beta', 'CodecEnc.conv_blocks.3.block.1.block.2.act.beta', 'CodecEnc.conv_blocks.3.block.2.block.0.act.beta', 'CodecEnc.conv_blocks.3.block.2.block.2.act.beta', 'CodecEnc.conv_blocks.3.block.3.act.beta', 'CodecEnc.conv_blocks.4.block.0.block.0.act.beta', 'CodecEnc.conv_blocks.4.block.0.block.2.act.beta', 'CodecEnc.conv_blocks.4.block.1.block.0.act.beta', 'CodecEnc.conv_blocks.4.block.1.block.2.act.beta', 'CodecEnc.conv_blocks.4.block.2.block.0.act.beta', 'CodecEnc.conv_blocks.4.block.2.block.2.act.beta', 'CodecEnc.conv_blocks.4.block.3.act.beta', 'CodecEnc.conv_blocks.5.block.0.block.0.act.beta', 'CodecEnc.conv_blocks.5.block.0.block.2.act.beta', 'CodecEnc.conv_blocks.5.block.1.block.0.act.beta', 'CodecEnc.conv_blocks.5.block.1.block.2.act.beta', 'CodecEnc.conv_blocks.5.block.2.block.0.act.beta', 'CodecEnc.conv_blocks.5.block.2.block.2.act.beta', 'CodecEnc.conv_blocks.5.block.3.act.beta', 'CodecEnc.conv_final_block.0.act.beta']\n",
            "- This IS expected if you are initializing XCodec2Model from the checkpoint of a model trained on another task or with another architecture (e.g. initializing a BertForSequenceClassification model from a BertForPreTraining model).\n",
            "- This IS NOT expected if you are initializing XCodec2Model from the checkpoint of a model that you expect to be exactly identical (initializing a BertForSequenceClassification model from a BertForSequenceClassification model).\n",
            "Some weights of XCodec2Model were not initialized from the model checkpoint at HKUST-Audio/xcodec2 and are newly initialized: ['CodecEnc.conv_blocks.1.block.0.block.0.act.bias', 'CodecEnc.conv_blocks.1.block.0.block.2.act.bias', 'CodecEnc.conv_blocks.1.block.1.block.0.act.bias', 'CodecEnc.conv_blocks.1.block.1.block.2.act.bias', 'CodecEnc.conv_blocks.1.block.2.block.0.act.bias', 'CodecEnc.conv_blocks.1.block.2.block.2.act.bias', 'CodecEnc.conv_blocks.1.block.3.act.bias', 'CodecEnc.conv_blocks.2.block.0.block.0.act.bias', 'CodecEnc.conv_blocks.2.block.0.block.2.act.bias', 'CodecEnc.conv_blocks.2.block.1.block.0.act.bias', 'CodecEnc.conv_blocks.2.block.1.block.2.act.bias', 'CodecEnc.conv_blocks.2.block.2.block.0.act.bias', 'CodecEnc.conv_blocks.2.block.2.block.2.act.bias', 'CodecEnc.conv_blocks.2.block.3.act.bias', 'CodecEnc.conv_blocks.3.block.0.block.0.act.bias', 'CodecEnc.conv_blocks.3.block.0.block.2.act.bias', 'CodecEnc.conv_blocks.3.block.1.block.0.act.bias', 'CodecEnc.conv_blocks.3.block.1.block.2.act.bias', 'CodecEnc.conv_blocks.3.block.2.block.0.act.bias', 'CodecEnc.conv_blocks.3.block.2.block.2.act.bias', 'CodecEnc.conv_blocks.3.block.3.act.bias', 'CodecEnc.conv_blocks.4.block.0.block.0.act.bias', 'CodecEnc.conv_blocks.4.block.0.block.2.act.bias', 'CodecEnc.conv_blocks.4.block.1.block.0.act.bias', 'CodecEnc.conv_blocks.4.block.1.block.2.act.bias', 'CodecEnc.conv_blocks.4.block.2.block.0.act.bias', 'CodecEnc.conv_blocks.4.block.2.block.2.act.bias', 'CodecEnc.conv_blocks.4.block.3.act.bias', 'CodecEnc.conv_blocks.5.block.0.block.0.act.bias', 'CodecEnc.conv_blocks.5.block.0.block.2.act.bias', 'CodecEnc.conv_blocks.5.block.1.block.0.act.bias', 'CodecEnc.conv_blocks.5.block.1.block.2.act.bias', 'CodecEnc.conv_blocks.5.block.2.block.0.act.bias', 'CodecEnc.conv_blocks.5.block.2.block.2.act.bias', 'CodecEnc.conv_blocks.5.block.3.act.bias', 'CodecEnc.conv_final_block.0.act.bias']\n",
            "You should probably TRAIN this model on a down-stream task to be able to use it for predictions and inference.\n",
            "Processing: 100%|██████████| 3296/3296 [17:38<00:00,  3.11it/s]\n"
          ]
        },
        {
          "output_type": "stream",
          "name": "stdout",
          "text": [
            "Dataset loaded for split 'train'. Number of samples: 3296\n",
            "Moving XCodec2 model to cpu\n"
          ]
        }
      ],
      "source": [
        "#@title Tokenization Function\n",
        "\n",
        "import os\n",
        "import numpy as np\n",
        "from datasets import load_dataset\n",
        "import torch\n",
        "import torchaudio\n",
        "from transformers import AutoTokenizer\n",
        "from xcodec2.modeling_xcodec2 import XCodec2Model\n",
        "from tqdm import tqdm\n",
        "from torch.utils.data import Dataset\n",
        "\n",
        "XCODEC2_MODEL_NAME = \"HKUST-Audio/xcodec2\"\n",
        "SAMPLE_RATE = 16000\n",
        "DEVICE = \"cuda\"\n",
        "\n",
        "def preprocess_and_save(\n",
        "    dataset,\n",
        "    output_dir: str,\n",
        "    tokenizer: AutoTokenizer,\n",
        "    codec_model: XCodec2Model,\n",
        "    sample_rate: int = 16000,\n",
        "    max_length: int = 2048,\n",
        "    device: str = \"cuda\" if torch.cuda.is_available() else \"cpu\"\n",
        "):\n",
        "    codec_model = codec_model.to(device).eval()\n",
        "    os.makedirs(output_dir, exist_ok=True)\n",
        "    memmap_path = os.path.join(output_dir, f\"input_ids.memmap\")\n",
        "    shape_path = os.path.join(output_dir, f\"input_ids_shape.npy\")\n",
        "    num_samples = len(dataset)\n",
        "    shape = (num_samples, max_length)\n",
        "    try:\n",
        "        arr = np.memmap(memmap_path, dtype=np.int32, mode='w+', shape=shape)\n",
        "    except Exception as e:\n",
        "        raise e\n",
        "    valid_sequences_count = 0\n",
        "    skipped_count = 0\n",
        "    for idx, example in tqdm(enumerate(dataset), total=num_samples, desc=f\"Processing\"):\n",
        "        try:\n",
        "            if 'text' not in example or example['text'] is None:\n",
        "                skipped_count += 1\n",
        "                continue\n",
        "            text = f\"<|TEXT_UNDERSTANDING_START|>{example['text']}<|TEXT_UNDERSTANDING_END|>\"\n",
        "            text_ids = tokenizer.encode(text, add_special_tokens=False)\n",
        "            if \"audio\" not in example or \"array\" not in example[\"audio\"] or \"sampling_rate\" not in example[\"audio\"] or example[\"audio\"][\"array\"] is None:\n",
        "                skipped_count += 1\n",
        "                continue\n",
        "            waveform = torch.tensor(example[\"audio\"][\"array\"]).float()\n",
        "            original_sr = example[\"audio\"][\"sampling_rate\"]\n",
        "            if original_sr != sample_rate:\n",
        "              waveform = torchaudio.functional.resample(waveform, original_sr, sample_rate)\n",
        "\n",
        "            original_shape_after_resample = waveform.shape\n",
        "            waveform = waveform.squeeze()\n",
        "            if waveform.dim() == 0:\n",
        "                skipped_count += 1\n",
        "                continue\n",
        "            elif waveform.dim() > 1:\n",
        "                waveform = waveform[0]\n",
        "                if waveform.dim() != 1:\n",
        "                    skipped_count += 1\n",
        "                    continue\n",
        "            final_waveform = waveform.unsqueeze(0).to(device)\n",
        "            speech_codes = None\n",
        "            with torch.inference_mode():\n",
        "                speech_codes_raw = codec_model.encode_code(final_waveform)\n",
        "                speech_codes = speech_codes_raw[0][0]\n",
        "\n",
        "            codes_np = speech_codes.cpu().numpy()\n",
        "            speech_token_ids = [f\"<|s_{code}|>\" for code in codes_np]\n",
        "            speech_token_ids = tokenizer.convert_tokens_to_ids(speech_token_ids)\n",
        "            speech_ids = (\n",
        "                [tokenizer.convert_tokens_to_ids(\"<|SPEECH_GENERATION_START|>\")]\n",
        "                + speech_token_ids\n",
        "                + [tokenizer.convert_tokens_to_ids(\"<|SPEECH_GENERATION_END|>\")]\n",
        "            )\n",
        "            max_text_space = max_length - len(speech_ids)\n",
        "            if max_text_space < 0:\n",
        "                skipped_count += 1\n",
        "                continue\n",
        "            truncated_text_ids = text_ids[:max_text_space]\n",
        "            combined_sequence = truncated_text_ids + speech_ids\n",
        "            padding_length = max_length - len(combined_sequence)\n",
        "            final_sequence = combined_sequence + [tokenizer.pad_token_id] * padding_length\n",
        "            final_sequence = final_sequence[:max_length]\n",
        "            arr[valid_sequences_count] = np.array(final_sequence, dtype=np.int32)\n",
        "            valid_sequences_count += 1\n",
        "        except Exception as e:\n",
        "            skipped_count += 1\n",
        "            continue\n",
        "        arr.flush()\n",
        "        actual_shape = (valid_sequences_count, max_length)\n",
        "        np.save(shape_path, np.array(actual_shape))\n",
        "\n",
        "\n",
        "class MemmapTTSDataset(Dataset):\n",
        "    def __init__(\n",
        "        self,\n",
        "        data_path: str,\n",
        "        tokenizer: AutoTokenizer,\n",
        "        max_length: int = 2048,\n",
        "    ):\n",
        "        self.tokenizer = tokenizer\n",
        "        self.max_length = max_length\n",
        "\n",
        "        if self.tokenizer.pad_token_id is None:\n",
        "             if self.tokenizer.eos_token_id is not None:\n",
        "                 self.tokenizer.pad_token_id = self.tokenizer.eos_token_id\n",
        "             else:\n",
        "                 raise ValueError(\"Tokenizer passed to Dataset must have pad_token_id set.\")\n",
        "\n",
        "        self.pad_token_id = self.tokenizer.pad_token_id\n",
        "        self.ignore_index = -100\n",
        "\n",
        "        memmap_file = os.path.join(data_path, f'input_ids.memmap')\n",
        "        shape_file = os.path.join(data_path, f'input_ids_shape.npy')\n",
        "\n",
        "        if not os.path.exists(memmap_file) or not os.path.exists(shape_file):\n",
        "             raise FileNotFoundError(f\"Required files not found  in {data_path}\")\n",
        "\n",
        "        self.shape = tuple(np.load(shape_file))\n",
        "        if not self.shape or len(self.shape) != 2 or self.shape[0] == 0:\n",
        "             self.length = 0\n",
        "             self.memmap_data = None\n",
        "        else:\n",
        "             self.memmap_data = np.memmap(memmap_file, dtype='int32', mode='r', shape=self.shape)\n",
        "             self.length = self.shape[0]\n",
        "\n",
        "        try:\n",
        "            self.speech_generation_start_id = tokenizer.convert_tokens_to_ids('<|SPEECH_GENERATION_START|>')\n",
        "            self.speech_generation_end_id = tokenizer.convert_tokens_to_ids('<|SPEECH_GENERATION_END|>')\n",
        "            self.text_understanding_start_id = tokenizer.convert_tokens_to_ids('<|TEXT_UNDERSTANDING_START|>')\n",
        "            self.text_understanding_end_id = tokenizer.convert_tokens_to_ids('<|TEXT_UNDERSTANDING_END|>')\n",
        "            assert isinstance(self.pad_token_id, int)\n",
        "        except Exception as token_err:\n",
        "            raise ValueError(f\"Tokenizer is missing required special tokens or pad_token_id. Error: {token_err}\")\n",
        "\n",
        "    def __len__(self):\n",
        "        return self.length\n",
        "\n",
        "    def replace_tagged_token(self, token_list, target_token_id, new_sequence_ids):\n",
        "        if isinstance(new_sequence_ids, torch.Tensor):\n",
        "            new_sequence_ids = new_sequence_ids.tolist()\n",
        "        try:\n",
        "            idx = token_list.index(target_token_id)\n",
        "            return token_list[:idx] + new_sequence_ids + token_list[idx+1:]\n",
        "        except ValueError:\n",
        "            return token_list\n",
        "\n",
        "    def pad_sequence_torch(self, sequence, max_length, value=0):\n",
        "        current_len = len(sequence)\n",
        "        if current_len >= max_length:\n",
        "            return sequence[:max_length]\n",
        "        else:\n",
        "            padding_size = max_length - current_len\n",
        "            padding = torch.full((padding_size,), value, dtype=sequence.dtype, device=sequence.device)\n",
        "            return torch.cat([sequence, padding], dim=0)\n",
        "\n",
        "    def __getitem__(self, idx):\n",
        "        if self.memmap_data is None or idx >= self.length:\n",
        "            raise IndexError(f\"Index out of bounds (length={self.length}).\")\n",
        "\n",
        "        raw_input_ids_np = self.memmap_data[idx]\n",
        "        input_ids_tensor_raw = torch.tensor(raw_input_ids_np, dtype=torch.long)\n",
        "        input_ids = None\n",
        "        speech_gen_idx_in_final = -1\n",
        "\n",
        "        try:\n",
        "            text_start_idx = (input_ids_tensor_raw == self.text_understanding_start_id).nonzero(as_tuple=True)[0][0].item()\n",
        "            text_end_idx = (input_ids_tensor_raw == self.text_understanding_end_id).nonzero(as_tuple=True)[0][0].item()\n",
        "            speech_start_idx = (input_ids_tensor_raw == self.speech_generation_start_id).nonzero(as_tuple=True)[0][0].item()\n",
        "\n",
        "            speech_end_marker_indices = (input_ids_tensor_raw == self.speech_generation_end_id).nonzero(as_tuple=True)[0]\n",
        "            pad_start_indices = (input_ids_tensor_raw == self.pad_token_id).nonzero(as_tuple=True)[0]\n",
        "\n",
        "            if len(speech_end_marker_indices) > 0:\n",
        "                 speech_end_idx = speech_end_marker_indices[0].item()\n",
        "            elif len(pad_start_indices) > 0:\n",
        "                 speech_end_idx = pad_start_indices[0].item() - 1\n",
        "            else:\n",
        "                 speech_end_idx = len(input_ids_tensor_raw) - 1\n",
        "\n",
        "            if not (text_start_idx < text_end_idx < speech_start_idx < speech_end_idx < len(input_ids_tensor_raw)):\n",
        "                 raise ValueError(\"Parsed indices are invalid or out of order\")\n",
        "\n",
        "            original_text_sequence = input_ids_tensor_raw[:speech_start_idx]\n",
        "            original_speech_sequence_with_markers = input_ids_tensor_raw[speech_start_idx : speech_end_idx +1]\n",
        "            chat = [\n",
        "                {\"role\": \"user\", \"content\": f\"Convert the text to speech:<|TEXT_UNDERSTANDING_START|>\"},\n",
        "                {\"role\": \"assistant\", \"content\": \"<|SPEECH_GENERATION_START|>\"}\n",
        "            ]\n",
        "\n",
        "            try:\n",
        "                 import inspect\n",
        "                 sig = inspect.signature(self.tokenizer.apply_chat_template)\n",
        "                 if 'add_generation_prompt' in sig.parameters:\n",
        "                     templated_ids_list = self.tokenizer.apply_chat_template(chat, tokenize=True, add_generation_prompt=False)\n",
        "                 else:\n",
        "                     templated_ids_list = self.tokenizer.apply_chat_template(chat, tokenize=True)\n",
        "\n",
        "                 final_ids_list = self.replace_tagged_token(templated_ids_list, self.text_understanding_start_id, original_text_sequence.tolist())\n",
        "                 final_ids_list = self.replace_tagged_token(final_ids_list, self.speech_generation_start_id, original_speech_sequence_with_markers.tolist())\n",
        "                 input_ids = torch.tensor(final_ids_list, dtype=torch.long)\n",
        "\n",
        "                 try:\n",
        "                     speech_gen_idx_in_final = (input_ids == self.speech_generation_start_id).nonzero(as_tuple=True)[0][0].item()\n",
        "                 except IndexError:\n",
        "                      speech_gen_idx_in_final = -1\n",
        "            except Exception:\n",
        "                 input_ids = input_ids_tensor_raw\n",
        "                 try:\n",
        "                     speech_gen_idx_in_final = (input_ids == self.speech_generation_start_id).nonzero(as_tuple=True)[0][0].item()\n",
        "                 except IndexError:\n",
        "                     speech_gen_idx_in_final = -1\n",
        "\n",
        "        except Exception:\n",
        "            input_ids = input_ids_tensor_raw\n",
        "            try:\n",
        "                speech_gen_idx_in_final = (input_ids == self.speech_generation_start_id).nonzero(as_tuple=True)[0][0].item()\n",
        "            except IndexError:\n",
        "                speech_gen_idx_in_final = -1\n",
        "\n",
        "        if input_ids is None:\n",
        "            input_ids = input_ids_tensor_raw\n",
        "            try:\n",
        "                speech_gen_idx_in_final = (input_ids == self.speech_generation_start_id).nonzero(as_tuple=True)[0][0].item()\n",
        "            except IndexError:\n",
        "                speech_gen_idx_in_final = -1\n",
        "\n",
        "        labels = torch.full_like(input_ids, self.ignore_index)\n",
        "        if speech_gen_idx_in_final != -1 and speech_gen_idx_in_final < len(input_ids):\n",
        "             labels[speech_gen_idx_in_final:] = input_ids[speech_gen_idx_in_final:].clone()\n",
        "\n",
        "        attention_mask = (input_ids != self.pad_token_id).long()\n",
        "        labels[input_ids == self.pad_token_id] = self.ignore_index\n",
        "\n",
        "        input_ids = self.pad_sequence_torch(input_ids, self.max_length, value=self.pad_token_id)\n",
        "        attention_mask = self.pad_sequence_torch(attention_mask, self.max_length, value=0)\n",
        "        labels = self.pad_sequence_torch(labels, self.max_length, value=self.ignore_index)\n",
        "\n",
        "        return {\n",
        "            'input_ids': input_ids,\n",
        "            'labels': labels,\n",
        "            'attention_mask': attention_mask\n",
        "        }\n",
        "\n",
        "\n",
        "\n",
        "try:\n",
        "    codec_model = XCodec2Model.from_pretrained(XCODEC2_MODEL_NAME)\n",
        "\n",
        "except Exception as e:\n",
        "    raise f\"ERROR loading XCodec2 model: {e}.\"\n",
        "\n",
        "preprocess_and_save(\n",
        "        dataset=dataset,\n",
        "        output_dir=OUTPUT_DIR,\n",
        "        tokenizer=tokenizer,\n",
        "        codec_model=codec_model,\n",
        "        sample_rate=SAMPLE_RATE,\n",
        "        max_length=max_seq_length,\n",
        "        device=DEVICE\n",
        "    )\n",
        "try:\n",
        "    train_dataset = MemmapTTSDataset(\n",
        "        data_path=OUTPUT_DIR,\n",
        "        tokenizer=tokenizer,\n",
        "        max_length=max_seq_length\n",
        "     )\n",
        "    print(f\"Dataset loaded for split 'train'. Number of samples: {len(train_dataset)}\")\n",
        "except Exception as e:\n",
        "    print(f\"Error initializing dataset: {e}\")\n",
        "print(\"Moving XCodec2 model to cpu\")\n",
        "codec_model.to('cpu')\n",
        "torch.cuda.empty_cache()"
      ]
    },
    {
      "cell_type": "markdown",
      "metadata": {
        "id": "idAEIeSQ3xdS"
      },
      "source": [
        "<a name=\"Train\"></a>\n",
        "### Train the model\n",
        "Now let's use Huggingface  `Trainer`! More docs here: [Transformers docs](https://huggingface.co/docs/transformers/main_classes/trainer). We do 60 steps to speed things up, but you can set `num_train_epochs=1` for a full run, and turn off `max_steps=None`."
      ]
    },
    {
      "cell_type": "code",
      "execution_count": 24,
      "metadata": {
        "id": "95_Nn-89DhsL"
      },
      "outputs": [],
      "source": [
        "from transformers import TrainingArguments, Trainer\n",
        "from unsloth import is_bfloat16_supported\n",
        "\n",
        "trainer = Trainer(\n",
        "    model = model,\n",
        "    train_dataset = train_dataset,\n",
        "    args = TrainingArguments(\n",
        "        per_device_train_batch_size = 2,\n",
        "        gradient_accumulation_steps = 4,\n",
        "        warmup_steps = 5,\n",
        "        #num_train_epochs = 1, # Set this for 1 full training run.\n",
        "        max_steps = 60,\n",
        "        learning_rate = 5e-4,\n",
        "        fp16 = not is_bfloat16_supported(),\n",
        "        bf16 = is_bfloat16_supported(),\n",
        "        logging_steps = 1,\n",
        "        optim = \"adamw_8bit\",\n",
        "        weight_decay = 0.01,\n",
        "        lr_scheduler_type = \"linear\",\n",
        "        seed = 3407,\n",
        "        output_dir = \"outputs\",\n",
        "        report_to = \"none\", # Use this for WandB etc\n",
        "    ),\n",
        ")"
      ]
    },
    {
      "cell_type": "code",
      "execution_count": 25,
      "metadata": {
        "colab": {
          "base_uri": "https://localhost:8080/"
        },
        "id": "2ejIt2xSNKKp",
        "outputId": "2e999f4f-4ce0-415d-d48d-569b0004c2ed"
      },
      "outputs": [
        {
          "output_type": "stream",
          "name": "stdout",
          "text": [
            "GPU = Tesla T4. Max memory = 14.741 GB.\n",
            "9.234 GB of memory reserved.\n"
          ]
        }
      ],
      "source": [
        "# @title Show current memory stats\n",
        "gpu_stats = torch.cuda.get_device_properties(0)\n",
        "start_gpu_memory = round(torch.cuda.max_memory_reserved() / 1024 / 1024 / 1024, 3)\n",
        "max_memory = round(gpu_stats.total_memory / 1024 / 1024 / 1024, 3)\n",
        "print(f\"GPU = {gpu_stats.name}. Max memory = {max_memory} GB.\")\n",
        "print(f\"{start_gpu_memory} GB of memory reserved.\")"
      ]
    },
    {
      "cell_type": "code",
      "execution_count": 26,
      "metadata": {
        "colab": {
          "base_uri": "https://localhost:8080/",
          "height": 1000
        },
        "id": "yqxqAZ7KJ4oL",
        "outputId": "c3d1a609-3c89-47d8-9bfb-47771bd063dd"
      },
      "outputs": [
        {
          "output_type": "stream",
          "name": "stderr",
          "text": [
            "==((====))==  Unsloth - 2x faster free finetuning | Num GPUs used = 1\n",
            "   \\\\   /|    Num examples = 3,296 | Num Epochs = 1 | Total steps = 60\n",
            "O^O/ \\_/ \\    Batch size per device = 2 | Gradient accumulation steps = 4\n",
            "\\        /    Data Parallel GPUs = 1 | Total batch size (2 x 4 x 1) = 8\n",
            " \"-____-\"     Trainable parameters = 13,631,488/1,383,680,000 (0.99% trained)\n"
          ]
        },
        {
          "output_type": "stream",
          "name": "stdout",
          "text": [
            "Unsloth: Will smartly offload gradients to save VRAM!\n"
          ]
        },
        {
          "output_type": "display_data",
          "data": {
            "text/plain": [
              "<IPython.core.display.HTML object>"
            ],
            "text/html": [
              "\n",
              "    <div>\n",
              "      \n",
              "      <progress value='60' max='60' style='width:300px; height:20px; vertical-align: middle;'></progress>\n",
              "      [60/60 06:00, Epoch 0/1]\n",
              "    </div>\n",
              "    <table border=\"1\" class=\"dataframe\">\n",
              "  <thead>\n",
              " <tr style=\"text-align: left;\">\n",
              "      <th>Step</th>\n",
              "      <th>Training Loss</th>\n",
              "    </tr>\n",
              "  </thead>\n",
              "  <tbody>\n",
              "    <tr>\n",
              "      <td>1</td>\n",
              "      <td>2.617300</td>\n",
              "    </tr>\n",
              "    <tr>\n",
              "      <td>2</td>\n",
              "      <td>2.368700</td>\n",
              "    </tr>\n",
              "    <tr>\n",
              "      <td>3</td>\n",
              "      <td>2.435900</td>\n",
              "    </tr>\n",
              "    <tr>\n",
              "      <td>4</td>\n",
              "      <td>2.462700</td>\n",
              "    </tr>\n",
              "    <tr>\n",
              "      <td>5</td>\n",
              "      <td>1.578900</td>\n",
              "    </tr>\n",
              "    <tr>\n",
              "      <td>6</td>\n",
              "      <td>1.186600</td>\n",
              "    </tr>\n",
              "    <tr>\n",
              "      <td>7</td>\n",
              "      <td>1.262800</td>\n",
              "    </tr>\n",
              "    <tr>\n",
              "      <td>8</td>\n",
              "      <td>1.049400</td>\n",
              "    </tr>\n",
              "    <tr>\n",
              "      <td>9</td>\n",
              "      <td>1.011500</td>\n",
              "    </tr>\n",
              "    <tr>\n",
              "      <td>10</td>\n",
              "      <td>1.132500</td>\n",
              "    </tr>\n",
              "    <tr>\n",
              "      <td>11</td>\n",
              "      <td>0.936500</td>\n",
              "    </tr>\n",
              "    <tr>\n",
              "      <td>12</td>\n",
              "      <td>0.933900</td>\n",
              "    </tr>\n",
              "    <tr>\n",
              "      <td>13</td>\n",
              "      <td>0.792200</td>\n",
              "    </tr>\n",
              "    <tr>\n",
              "      <td>14</td>\n",
              "      <td>0.810100</td>\n",
              "    </tr>\n",
              "    <tr>\n",
              "      <td>15</td>\n",
              "      <td>0.906500</td>\n",
              "    </tr>\n",
              "    <tr>\n",
              "      <td>16</td>\n",
              "      <td>0.761300</td>\n",
              "    </tr>\n",
              "    <tr>\n",
              "      <td>17</td>\n",
              "      <td>0.615800</td>\n",
              "    </tr>\n",
              "    <tr>\n",
              "      <td>18</td>\n",
              "      <td>0.662400</td>\n",
              "    </tr>\n",
              "    <tr>\n",
              "      <td>19</td>\n",
              "      <td>0.719100</td>\n",
              "    </tr>\n",
              "    <tr>\n",
              "      <td>20</td>\n",
              "      <td>0.624600</td>\n",
              "    </tr>\n",
              "    <tr>\n",
              "      <td>21</td>\n",
              "      <td>0.616600</td>\n",
              "    </tr>\n",
              "    <tr>\n",
              "      <td>22</td>\n",
              "      <td>0.731800</td>\n",
              "    </tr>\n",
              "    <tr>\n",
              "      <td>23</td>\n",
              "      <td>0.636000</td>\n",
              "    </tr>\n",
              "    <tr>\n",
              "      <td>24</td>\n",
              "      <td>0.507000</td>\n",
              "    </tr>\n",
              "    <tr>\n",
              "      <td>25</td>\n",
              "      <td>0.784300</td>\n",
              "    </tr>\n",
              "    <tr>\n",
              "      <td>26</td>\n",
              "      <td>0.647800</td>\n",
              "    </tr>\n",
              "    <tr>\n",
              "      <td>27</td>\n",
              "      <td>0.633600</td>\n",
              "    </tr>\n",
              "    <tr>\n",
              "      <td>28</td>\n",
              "      <td>0.557900</td>\n",
              "    </tr>\n",
              "    <tr>\n",
              "      <td>29</td>\n",
              "      <td>0.506600</td>\n",
              "    </tr>\n",
              "    <tr>\n",
              "      <td>30</td>\n",
              "      <td>0.570900</td>\n",
              "    </tr>\n",
              "    <tr>\n",
              "      <td>31</td>\n",
              "      <td>0.524000</td>\n",
              "    </tr>\n",
              "    <tr>\n",
              "      <td>32</td>\n",
              "      <td>0.581900</td>\n",
              "    </tr>\n",
              "    <tr>\n",
              "      <td>33</td>\n",
              "      <td>0.618000</td>\n",
              "    </tr>\n",
              "    <tr>\n",
              "      <td>34</td>\n",
              "      <td>0.548000</td>\n",
              "    </tr>\n",
              "    <tr>\n",
              "      <td>35</td>\n",
              "      <td>0.700300</td>\n",
              "    </tr>\n",
              "    <tr>\n",
              "      <td>36</td>\n",
              "      <td>0.457700</td>\n",
              "    </tr>\n",
              "    <tr>\n",
              "      <td>37</td>\n",
              "      <td>0.490100</td>\n",
              "    </tr>\n",
              "    <tr>\n",
              "      <td>38</td>\n",
              "      <td>0.431100</td>\n",
              "    </tr>\n",
              "    <tr>\n",
              "      <td>39</td>\n",
              "      <td>0.488000</td>\n",
              "    </tr>\n",
              "    <tr>\n",
              "      <td>40</td>\n",
              "      <td>0.519200</td>\n",
              "    </tr>\n",
              "    <tr>\n",
              "      <td>41</td>\n",
              "      <td>0.514800</td>\n",
              "    </tr>\n",
              "    <tr>\n",
              "      <td>42</td>\n",
              "      <td>0.527000</td>\n",
              "    </tr>\n",
              "    <tr>\n",
              "      <td>43</td>\n",
              "      <td>0.492700</td>\n",
              "    </tr>\n",
              "    <tr>\n",
              "      <td>44</td>\n",
              "      <td>0.526500</td>\n",
              "    </tr>\n",
              "    <tr>\n",
              "      <td>45</td>\n",
              "      <td>0.567700</td>\n",
              "    </tr>\n",
              "    <tr>\n",
              "      <td>46</td>\n",
              "      <td>0.471100</td>\n",
              "    </tr>\n",
              "    <tr>\n",
              "      <td>47</td>\n",
              "      <td>0.533500</td>\n",
              "    </tr>\n",
              "    <tr>\n",
              "      <td>48</td>\n",
              "      <td>0.445900</td>\n",
              "    </tr>\n",
              "    <tr>\n",
              "      <td>49</td>\n",
              "      <td>0.558500</td>\n",
              "    </tr>\n",
              "    <tr>\n",
              "      <td>50</td>\n",
              "      <td>0.496000</td>\n",
              "    </tr>\n",
              "    <tr>\n",
              "      <td>51</td>\n",
              "      <td>0.499700</td>\n",
              "    </tr>\n",
              "    <tr>\n",
              "      <td>52</td>\n",
              "      <td>0.488300</td>\n",
              "    </tr>\n",
              "    <tr>\n",
              "      <td>53</td>\n",
              "      <td>0.485300</td>\n",
              "    </tr>\n",
              "    <tr>\n",
              "      <td>54</td>\n",
              "      <td>0.486200</td>\n",
              "    </tr>\n",
              "    <tr>\n",
              "      <td>55</td>\n",
              "      <td>0.449300</td>\n",
              "    </tr>\n",
              "    <tr>\n",
              "      <td>56</td>\n",
              "      <td>0.526300</td>\n",
              "    </tr>\n",
              "    <tr>\n",
              "      <td>57</td>\n",
              "      <td>0.543700</td>\n",
              "    </tr>\n",
              "    <tr>\n",
              "      <td>58</td>\n",
              "      <td>0.517800</td>\n",
              "    </tr>\n",
              "    <tr>\n",
              "      <td>59</td>\n",
              "      <td>0.483900</td>\n",
              "    </tr>\n",
              "    <tr>\n",
              "      <td>60</td>\n",
              "      <td>0.565600</td>\n",
              "    </tr>\n",
              "  </tbody>\n",
              "</table><p>"
            ]
          },
          "metadata": {}
        }
      ],
      "source": [
        "trainer_stats = trainer.train()"
      ]
    },
    {
      "cell_type": "code",
      "execution_count": 27,
      "metadata": {
        "id": "pCqnaKmlO1U9",
        "colab": {
          "base_uri": "https://localhost:8080/"
        },
        "outputId": "53232c1d-a9fe-44c6-c703-cce6039fe4a5"
      },
      "outputs": [
        {
          "output_type": "stream",
          "name": "stdout",
          "text": [
            "378.3703 seconds used for training.\n",
            "6.31 minutes used for training.\n",
            "Peak reserved memory = 9.234 GB.\n",
            "Peak reserved memory for training = 0.0 GB.\n",
            "Peak reserved memory % of max memory = 62.642 %.\n",
            "Peak reserved memory for training % of max memory = 0.0 %.\n"
          ]
        }
      ],
      "source": [
        "# @title Show final memory and time stats\n",
        "used_memory = round(torch.cuda.max_memory_reserved() / 1024 / 1024 / 1024, 3)\n",
        "used_memory_for_lora = round(used_memory - start_gpu_memory, 3)\n",
        "used_percentage = round(used_memory / max_memory * 100, 3)\n",
        "lora_percentage = round(used_memory_for_lora / max_memory * 100, 3)\n",
        "print(f\"{trainer_stats.metrics['train_runtime']} seconds used for training.\")\n",
        "print(\n",
        "    f\"{round(trainer_stats.metrics['train_runtime']/60, 2)} minutes used for training.\"\n",
        ")\n",
        "print(f\"Peak reserved memory = {used_memory} GB.\")\n",
        "print(f\"Peak reserved memory for training = {used_memory_for_lora} GB.\")\n",
        "print(f\"Peak reserved memory % of max memory = {used_percentage} %.\")\n",
        "print(f\"Peak reserved memory for training % of max memory = {lora_percentage} %.\")"
      ]
    },
    {
      "cell_type": "markdown",
      "metadata": {
        "id": "ekOmTR1hSNcr"
      },
      "source": [
        "<a name=\"Inference\"></a>\n",
        "### Inference\n",
        "Let's run the model! You can change the prompts\n"
      ]
    },
    {
      "cell_type": "code",
      "execution_count": 28,
      "metadata": {
        "id": "cgP6HUMgeTqP"
      },
      "outputs": [],
      "source": [
        "input_text = \"اربك تكست هو اول موقع يسمح لزواره الكرام بتحويل الكتابة العربي الى كتابة مفهومة من قبل اغلب برامج التصميم مثل الفوتوشوب و الافترايفكتس و البريمير و الافد\""
      ]
    },
    {
      "cell_type": "code",
      "execution_count": 29,
      "metadata": {
        "colab": {
          "base_uri": "https://localhost:8080/",
          "height": 52
        },
        "id": "apUdB40Ep6Ki",
        "outputId": "d76e74d4-fc98-4473-9fb8-0891f89508fd"
      },
      "outputs": [
        {
          "output_type": "display_data",
          "data": {
            "text/plain": [
              "<IPython.lib.display.Audio object>"
            ],
            "text/html": [
              "\n",
              "                <audio  controls=\"controls\" >\n",
              "                    <source src=\"data:audio/wav;base64,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\" type=\"audio/wav\" />\n",
              "                    Your browser does not support the audio element.\n",
              "                </audio>\n",
              "              "
            ]
          },
          "metadata": {}
        }
      ],
      "source": [
        "#@title Run Inference\n",
        "import soundfile as sf\n",
        "\n",
        "from IPython.display import display, Audio\n",
        "FastLanguageModel.for_inference(model)\n",
        "\n",
        "def ids_to_speech_tokens(speech_ids):\n",
        "\n",
        "    speech_tokens_str = []\n",
        "    for speech_id in speech_ids:\n",
        "        speech_tokens_str.append(f\"<|s_{speech_id}|>\")\n",
        "    return speech_tokens_str\n",
        "\n",
        "def extract_speech_ids(speech_tokens_str):\n",
        "\n",
        "    speech_ids = []\n",
        "    for token_str in speech_tokens_str:\n",
        "        if token_str.startswith('<|s_') and token_str.endswith('|>'):\n",
        "            num_str = token_str[4:-2]\n",
        "\n",
        "            num = int(num_str)\n",
        "            speech_ids.append(num)\n",
        "        else:\n",
        "            print(f\"Unexpected token: {token_str}\")\n",
        "    return speech_ids\n",
        "\n",
        "#TTS start!\n",
        "with torch.inference_mode():\n",
        "    with torch.amp.autocast('cuda',dtype=model.dtype):\n",
        "        formatted_text = f\"<|TEXT_UNDERSTANDING_START|>{input_text}<|TEXT_UNDERSTANDING_END|>\"\n",
        "\n",
        "        # Tokenize the text\n",
        "        chat = [\n",
        "            {\"role\": \"user\", \"content\": \"Convert the text to speech:\" + formatted_text},\n",
        "            {\"role\": \"assistant\", \"content\": \"<|SPEECH_GENERATION_START|>\"}\n",
        "        ]\n",
        "\n",
        "        input_ids = tokenizer.apply_chat_template(\n",
        "            chat,\n",
        "            tokenize=True,\n",
        "            return_tensors='pt',\n",
        "            continue_final_message=True\n",
        "        )\n",
        "        input_ids = input_ids.to('cuda')\n",
        "\n",
        "        speech_end_id = tokenizer.convert_tokens_to_ids('<|SPEECH_GENERATION_END|>')\n",
        "\n",
        "        # Generate the speech autoregressively\n",
        "        outputs = model.generate(\n",
        "            input_ids,\n",
        "            max_length=2048,  # We trained our model with a max length of 2048\n",
        "            eos_token_id= speech_end_id ,\n",
        "            do_sample=True,\n",
        "            top_p=1.2,           #  Adjusts the diversity of generated content\n",
        "            temperature=1.2,   #  Controls randomness in output\n",
        "        )\n",
        "    # Extract the speech tokens\n",
        "    generated_ids = outputs[0][input_ids.shape[1]:-1]\n",
        "\n",
        "    speech_tokens = tokenizer.batch_decode(generated_ids, skip_special_tokens=True)\n",
        "\n",
        "    # Convert  token <|s_23456|> to int 23456\n",
        "    speech_tokens = extract_speech_ids(speech_tokens)\n",
        "\n",
        "    speech_tokens = torch.tensor(speech_tokens).cpu().unsqueeze(0).unsqueeze(0)\n",
        "\n",
        "    # Decode the speech tokens to speech waveform\n",
        "    gen_wav = codec_model.decode_code(speech_tokens)\n",
        "\n",
        "sf.write(\"output.wav\", gen_wav[0, 0, :].cpu().numpy(), 16000)\n",
        "\n",
        "display(Audio(gen_wav[0, 0, :].cpu().numpy(), rate=16000))"
      ]
    },
    {
      "cell_type": "markdown",
      "metadata": {
        "id": "uMuVrWbjAzhc"
      },
      "source": [
        "<a name=\"Save\"></a>\n",
        "### Saving, loading finetuned models\n",
        "To save the final model as LoRA adapters, either use Huggingface's `push_to_hub` for an online save or `save_pretrained` for a local save.\n",
        "\n",
        "**[NOTE]** This ONLY saves the LoRA adapters, and not the full model. To save to 16bit or GGUF, scroll down!"
      ]
    },
    {
      "cell_type": "code",
      "execution_count": 30,
      "metadata": {
        "colab": {
          "base_uri": "https://localhost:8080/"
        },
        "id": "upcOlWe7A1vc",
        "outputId": "0fd170ea-61c1-4a8a-b103-47602bb801b6"
      },
      "outputs": [
        {
          "output_type": "execute_result",
          "data": {
            "text/plain": [
              "('lora_model/tokenizer_config.json',\n",
              " 'lora_model/special_tokens_map.json',\n",
              " 'lora_model/tokenizer.json')"
            ]
          },
          "metadata": {},
          "execution_count": 30
        }
      ],
      "source": [
        "model.save_pretrained(\"lora_model\")  # Local saving\n",
        "tokenizer.save_pretrained(\"lora_model\")\n",
        "# model.push_to_hub(\"your_name/lora_model\", token = \"...\") # Online saving\n",
        "# tokenizer.push_to_hub(\"your_name/lora_model\", token = \"...\") # Online saving"
      ]
    },
    {
      "cell_type": "markdown",
      "metadata": {
        "id": "f422JgM9sdVT"
      },
      "source": [
        "### Saving to float16\n",
        "\n",
        "We also support saving to `float16` directly. Select `merged_16bit` for float16 or `merged_4bit` for int4. We also allow `lora` adapters as a fallback. Use `push_to_hub_merged` to upload to your Hugging Face account! You can go to https://huggingface.co/settings/tokens for your personal tokens."
      ]
    },
    {
      "cell_type": "code",
      "execution_count": 31,
      "metadata": {
        "id": "iHjt_SMYsd3P"
      },
      "outputs": [],
      "source": [
        "# Merge to 16bit\n",
        "if False: model.save_pretrained_merged(\"model\", tokenizer, save_method = \"merged_16bit\",)\n",
        "if False: model.push_to_hub_merged(\"hf/model\", tokenizer, save_method = \"merged_16bit\", token = \"\")\n",
        "\n",
        "# Merge to 4bit\n",
        "if False: model.save_pretrained_merged(\"model\", tokenizer, save_method = \"merged_4bit\",)\n",
        "if False: model.push_to_hub_merged(\"hf/model\", tokenizer, save_method = \"merged_4bit\", token = \"\")\n",
        "\n",
        "# Just LoRA adapters\n",
        "if False: model.save_pretrained_merged(\"model\", tokenizer, save_method = \"lora\",)\n",
        "if False: model.push_to_hub_merged(\"hf/model\", tokenizer, save_method = \"lora\", token = \"\")"
      ]
    },
    {
      "cell_type": "markdown",
      "metadata": {
        "id": "8BKcejRlhRNK"
      },
      "source": [
        "And we're done! If you have any questions on Unsloth, we have a [Discord](https://discord.gg/unsloth) channel! If you find any bugs or want to keep updated with the latest LLM stuff, or need help, join projects etc, feel free to join our Discord!\n",
        "\n",
        "Some other links:\n",
        "1. Train your own reasoning model - Llama GRPO notebook [Free Colab](https://colab.research.google.com/github/unslothai/notebooks/blob/main/nb/Llama3.1_(8B)-GRPO.ipynb)\n",
        "2. Saving finetunes to Ollama. [Free notebook](https://colab.research.google.com/github/unslothai/notebooks/blob/main/nb/Llama3_(8B)-Ollama.ipynb)\n",
        "3. Llama 3.2 Vision finetuning - Radiography use case. [Free Colab](https://colab.research.google.com/github/unslothai/notebooks/blob/main/nb/Llama3.2_(11B)-Vision.ipynb)\n",
        "6. See notebooks for DPO, ORPO, Continued pretraining, conversational finetuning and more on our [documentation](https://docs.unsloth.ai/get-started/unsloth-notebooks)!\n",
        "\n",
        "<div class=\"align-center\">\n",
        "  <a href=\"https://unsloth.ai\"><img src=\"https://github.com/unslothai/unsloth/raw/main/images/unsloth%20new%20logo.png\" width=\"115\"></a>\n",
        "  <a href=\"https://discord.gg/unsloth\"><img src=\"https://github.com/unslothai/unsloth/raw/main/images/Discord.png\" width=\"145\"></a>\n",
        "  <a href=\"https://docs.unsloth.ai/\"><img src=\"https://github.com/unslothai/unsloth/blob/main/images/documentation%20green%20button.png?raw=true\" width=\"125\"></a>\n",
        "\n",
        "  Join Discord if you need help + ⭐️ <i>Star us on <a href=\"https://github.com/unslothai/unsloth\">Github</a> </i> ⭐️\n",
        "</div>\n"
      ]
    },
    {
      "cell_type": "code",
      "source": [],
      "metadata": {
        "id": "Sf9IO1TRBV-e"
      },
      "execution_count": null,
      "outputs": []
    }
  ],
  "metadata": {
    "accelerator": "GPU",
    "colab": {
      "gpuType": "T4",
      "provenance": [],
      "include_colab_link": true
    },
    "kaggle": {
      "accelerator": "nvidiaTeslaT4",
      "dataSources": [],
      "dockerImageVersionId": 31011,
      "isGpuEnabled": true,
      "isInternetEnabled": true,
      "language": "python",
      "sourceType": "notebook"
    },
    "kernelspec": {
      "display_name": "Python 3",
      "name": "python3"
    },
    "language_info": {
      "codemirror_mode": {
        "name": "ipython",
        "version": 3
      },
      "file_extension": ".py",
      "mimetype": "text/x-python",
      "name": "python",
      "nbconvert_exporter": "python",
      "pygments_lexer": "ipython3",
      "version": "3.10.10"
    }
  },
  "nbformat": 4,
  "nbformat_minor": 0
}